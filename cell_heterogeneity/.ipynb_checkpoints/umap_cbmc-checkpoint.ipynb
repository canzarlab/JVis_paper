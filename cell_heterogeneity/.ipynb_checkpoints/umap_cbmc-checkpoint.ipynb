{
 "cells": [
  {
   "cell_type": "code",
   "execution_count": 1,
   "metadata": {},
   "outputs": [],
   "source": [
    "# Author: Van Hoan Do <vanhoan310@gmail.com>\n",
    "# License: BSD 3 clause (C) 2020\n",
    "from numpy import genfromtxt\n",
    "import numpy as np \n",
    "import matplotlib\n",
    "import pylab as plt\n",
    "import pandas as pd\n",
    "from Jvis import UMAP, JUMAP"
   ]
  },
  {
   "cell_type": "code",
   "execution_count": 2,
   "metadata": {},
   "outputs": [],
   "source": [
    "rna_matrix = np.genfromtxt('data/cbmc_rna_pca.csv', delimiter=',')\n",
    "adt_matrix = np.genfromtxt('data/cbmc_adt.csv', delimiter=',')\n",
    "# method = 'CiteFuse' # 'CiteFuse'\n",
    "method = 'Specter' # 'Specter'\n",
    "if method == 'Specter':\n",
    "    y = np.genfromtxt('data/cbmc_jointspecter_labels.csv', delimiter=',')\n",
    "    cell_types = [\"NK\", \"pDCs\", \"Eryth\", \"CD8 T\", \"CD14+ Mono\", \"CD4 T\", \"DC\", \"CD34+\", \"CD16+ Mono\", \"MK\", \"B\"] #specter\n",
    "else:\n",
    "    y = np.genfromtxt('data/cbmc_citefuse_labels.csv', delimiter=',')\n",
    "    cell_types = [\"CD4 T\", \"CD14+ Mono\", \"B\", \"NK\", \"CD34+\", \"pDCs\", \"CD8 T\", \"CD16+ Mono\", \"Eryth\", \"DC\"] # citefuse\n",
    "labels_true = y.astype(int)"
   ]
  },
  {
   "cell_type": "code",
   "execution_count": 3,
   "metadata": {},
   "outputs": [],
   "source": [
    "# run umap \n",
    "dpi = 200\n",
    "# dpi = 50\n",
    "title_fz = 16\n",
    "metrics = 'euclidean'\n",
    "n_NN = 15\n",
    "min_dist = 0.1"
   ]
  },
  {
   "cell_type": "code",
   "execution_count": null,
   "metadata": {},
   "outputs": [
    {
     "name": "stdout",
     "output_type": "stream",
     "text": [
      "Always use exact mode\n"
     ]
    },
    {
     "data": {
      "image/png": "[encoded data removed]",
      "text/plain": [
       "<Figure size 250x250 with 1 Axes>"
      ]
     },
     "metadata": {
      "needs_background": "light"
     },
     "output_type": "display_data"
    },
    {
     "name": "stdout",
     "output_type": "stream",
     "text": [
      "Always use exact mode\n"
     ]
    }
   ],
   "source": [
    "for alpha in [0.0, 1.0, 0.5]:\n",
    "# for alpha in [0.5]:\n",
    "    if alpha == 1.0:\n",
    "        Z = UMAP(n_neighbors=n_NN, min_dist=min_dist, metric=metrics, repulsion_strength=0.5).fit_transform(rna_matrix)\n",
    "    elif alpha == 0.0:\n",
    "        Z = UMAP(n_neighbors=n_NN, min_dist=min_dist, metric=metrics, repulsion_strength=0.5).fit_transform(adt_matrix)\n",
    "    else:\n",
    "#         Z = JUMAP(n_neighbors=n_NN, min_dist=min_dist, metric=metrics, repulsion_strength=0.5).fit_transform(X = {'adt': adt_matrix, 'rna': rna_matrix}, method = \"auto\", ld = 1.0)\n",
    "        Z = JUMAP(n_neighbors=n_NN, min_dist=min_dist, metric=metrics, repulsion_strength=0.5).fit_transform(X = {'adt': adt_matrix, 'rna': rna_matrix})\n",
    "\n",
    "    #loop through labels and plot each cluster\n",
    "    data2 = pd.DataFrame({'x': Z[:,0], 'y': Z[:,1], 'label': labels_true-np.min(labels_true) + 1})\n",
    "    colors = ['black', 'cyan', 'gold', 'magenta', 'blue', 'silver', 'lime','#fdbf6f','#a6cee3','#cab2d6','#fb9a99','tomato', 'olive',\n",
    "                     'cyan','black', 'gold', 'magenta', 'blue', 'silver', 'lime','#fdbf6f','#a6cee3','#cab2d6','#fb9a99','tomato', 'olive']\n",
    "    colors_map = {\"NK\":'black', \"pDCs\":'cyan', \"Eryth\":'gold', \"CD8 T\":'magenta', \"CD14+ Mono\":'blue', \n",
    "                  \"CD4 T\":'silver', \"DC\":'lime', \"CD34+\":'#fdbf6f', \"CD16+ Mono\":'#a6cee3', \"MK\":'#cab2d6', \"B\":'#fb9a99'}\n",
    "    if method == 'Specter':\n",
    "        cell_types = [\"NK\", \"pDCs\", \"Eryth\", \"CD8 T\", \"CD14+ Mono\", \"CD4 T\", \"DC\", \"CD34+\", \"CD16+ Mono\", \"MK\", \"B\"] #specter\n",
    "    else:\n",
    "        cell_types = [\"CD4 T\", \"CD14+ Mono\", \"B\", \"NK\", \"CD34+\", \"pDCs\", \"CD8 T\", \"CD16+ Mono\", \"Eryth\", \"DC\"] # citefuse\n",
    "    figwidth = 6 if alpha==0.5 else 5\n",
    "    plt.figure(figsize=(figwidth, 5), dpi = dpi)\n",
    "    for label in range(1, len(np.unique(labels_true))+1, 1):\n",
    "        # add data points \n",
    "        i = label-1\n",
    "        plt.scatter(x=data2.loc[data2['label']==label, 'x'], \n",
    "                    y=data2.loc[data2['label']==label,'y'], \n",
    "                    color=colors_map[cell_types[i]], \n",
    "                    alpha=1, s = 1, label = cell_types[i])\n",
    "        plt.tight_layout()\n",
    "        if alpha == 1.0:\n",
    "            plt.title(\"mRNA based UMAP\", fontdict = {'fontsize' : title_fz})\n",
    "        elif alpha == 0.0:\n",
    "            plt.title(\"ADT based UMAP\", fontdict = {'fontsize' : title_fz})\n",
    "        else:\n",
    "            plt.title(\"j-UMAP\", fontdict = {'fontsize' : title_fz})\n",
    "            plt.legend(loc='center left', numpoints=1, ncol=1, fontsize=title_fz-2, markerscale=title_fz-2, frameon=False, bbox_to_anchor=(1, 0.5))\n",
    "        plt.axis('off')\n",
    "    if alpha == 1.0:\n",
    "        plt.savefig('/data/hoan/plots/celltype/cbmc_'+method+'_on_RNAbasedUMAP.pdf', dpi = dpi)\n",
    "    elif alpha == 0.0:\n",
    "        plt.savefig('/data/hoan/plots/celltype/cbmc_'+method+'_on_ADTbasedUMAP.pdf', dpi = dpi)\n",
    "    else:\n",
    "        plt.savefig('/data/hoan/plots/celltype/cbmc_'+method+'_on_jointUMAP.pdf', dpi = dpi)\n",
    "    plt.show()"
   ]
  },
  {
   "cell_type": "markdown",
   "metadata": {},
   "source": [
    "## Compute KNI and CARI metrics on 4 clusters: CD4, CD8, CD14, DCs"
   ]
  },
  {
   "cell_type": "code",
   "execution_count": null,
   "metadata": {},
   "outputs": [],
   "source": [
    "# Specter label\n",
    "specter_labels = np.genfromtxt('data/cbmc_jointspecter_labels.csv', delimiter=',').astype(int)\n",
    "specter_labels = specter_labels - min(specter_labels) # reindex to start from 0\n",
    "cell_types = [\"NK\", \"pDCs\", \"Eryth\", \"CD8 T\", \"CD14+ Mono\", \"CD4 T\", \"DC\", \"CD34+\", \"CD16+ Mono\", \"MK\", \"B\"] #specter\n",
    "subtypes = [\"CD8 T\", \"CD14+ Mono\", \"CD4 T\", \"DC\"]\n",
    "subtypes_index = [3, 4, 5, 6]"
   ]
  },
  {
   "cell_type": "code",
   "execution_count": null,
   "metadata": {},
   "outputs": [],
   "source": [
    "# Citefuse\n",
    "citefuse_labels = np.genfromtxt('data/cbmc_citefuse_labels.csv', delimiter=',').astype(int)\n",
    "citefuse_labels = citefuse_labels - min(citefuse_labels) # reindex to start from 0\n",
    "cell_types2 = [\"CD4 T\", \"CD14+ Mono\", \"B\", \"NK\", \"CD34+\", \"pDCs\", \"CD8 T\", \"CD16+ Mono\", \"Eryth\", \"DC\"] # citefuse\n",
    "subtypes_index2 = [0, 1, 6, 9]"
   ]
  },
  {
   "cell_type": "code",
   "execution_count": null,
   "metadata": {},
   "outputs": [],
   "source": [
    "cd8 = (specter_labels==3) * (citefuse_labels==6)"
   ]
  },
  {
   "cell_type": "code",
   "execution_count": null,
   "metadata": {},
   "outputs": [],
   "source": [
    "cd4 = (specter_labels==5) * (citefuse_labels==0)"
   ]
  },
  {
   "cell_type": "code",
   "execution_count": null,
   "metadata": {},
   "outputs": [],
   "source": [
    "cd14 = (specter_labels==4) * (citefuse_labels==1)"
   ]
  },
  {
   "cell_type": "code",
   "execution_count": null,
   "metadata": {},
   "outputs": [],
   "source": [
    "dc = (specter_labels==6) * (citefuse_labels==9)"
   ]
  },
  {
   "cell_type": "code",
   "execution_count": null,
   "metadata": {},
   "outputs": [],
   "source": [
    "subtypes_cells = cd8 + cd4 +cd14 + dc"
   ]
  },
  {
   "cell_type": "code",
   "execution_count": null,
   "metadata": {},
   "outputs": [],
   "source": [
    "sum(subtypes_cells)"
   ]
  },
  {
   "cell_type": "code",
   "execution_count": null,
   "metadata": {},
   "outputs": [],
   "source": [
    "subtypes_labels_level = cd8.astype(int) + 2* cd4.astype(int) + 3*cd14.astype(int) + 4*dc.astype(int)"
   ]
  },
  {
   "cell_type": "code",
   "execution_count": null,
   "metadata": {},
   "outputs": [],
   "source": [
    "subtypes_labels = subtypes_labels_level[subtypes_labels_level>0]"
   ]
  },
  {
   "cell_type": "code",
   "execution_count": null,
   "metadata": {},
   "outputs": [],
   "source": [
    "len(subtypes_labels)"
   ]
  },
  {
   "cell_type": "code",
   "execution_count": null,
   "metadata": {},
   "outputs": [],
   "source": [
    "# RNA based tSNE\n",
    "umap_rna = UMAP().fit_transform(rna_matrix)"
   ]
  },
  {
   "cell_type": "code",
   "execution_count": null,
   "metadata": {},
   "outputs": [],
   "source": [
    "sub_umap_rna = umap_rna[subtypes_cells==1]"
   ]
  },
  {
   "cell_type": "code",
   "execution_count": null,
   "metadata": {},
   "outputs": [],
   "source": [
    "plt.scatter(sub_umap_rna[:,0], sub_umap_rna[:, 1])\n",
    "plt.show()"
   ]
  },
  {
   "cell_type": "code",
   "execution_count": null,
   "metadata": {},
   "outputs": [],
   "source": [
    "## Compute two metrics\n",
    "from joint_metrics import *\n",
    "kNN = 10\n",
    "KNI_metrics = KNI(sub_umap_rna, subtypes_labels, kNN)\n",
    "CARI_metrics = CARI(sub_umap_rna, subtypes_labels)\n",
    "print(\"KNI: \", KNI_metrics, \", CARI: \", CARI_metrics)"
   ]
  },
  {
   "cell_type": "code",
   "execution_count": null,
   "metadata": {},
   "outputs": [],
   "source": [
    "# ADT based tSNE\n",
    "umap_adt = UMAP().fit_transform(adt_matrix)"
   ]
  },
  {
   "cell_type": "code",
   "execution_count": null,
   "metadata": {},
   "outputs": [],
   "source": [
    "sub_umap_adt = umap_adt[subtypes_cells==1]"
   ]
  },
  {
   "cell_type": "code",
   "execution_count": null,
   "metadata": {},
   "outputs": [],
   "source": [
    "KNI_metrics = KNI(sub_umap_adt, subtypes_labels, kNN)\n",
    "CARI_metrics = CARI(sub_umap_adt, subtypes_labels)\n",
    "print(\"KNI: \", KNI_metrics, \", CARI: \", CARI_metrics)"
   ]
  },
  {
   "cell_type": "code",
   "execution_count": null,
   "metadata": {},
   "outputs": [],
   "source": [
    "# joint TSNE\n",
    "joint_umap = JUMAP().fit_transform(X = {'rna': rna_matrix, 'adt': adt_matrix})"
   ]
  },
  {
   "cell_type": "code",
   "execution_count": null,
   "metadata": {},
   "outputs": [],
   "source": [
    "sub_joint_umap = joint_umap[subtypes_cells==1]"
   ]
  },
  {
   "cell_type": "code",
   "execution_count": null,
   "metadata": {},
   "outputs": [],
   "source": [
    "## Compute two metrics\n",
    "KNI_metrics = KNI(sub_joint_umap, subtypes_labels, kNN)\n",
    "CARI_metrics = CARI(sub_joint_umap, subtypes_labels)\n",
    "print(\"KNI: \", KNI_metrics, \", CARI: \", CARI_metrics)"
   ]
  },
  {
   "cell_type": "code",
   "execution_count": null,
   "metadata": {},
   "outputs": [],
   "source": []
  }
 ],
 "metadata": {
  "kernelspec": {
   "display_name": "Python umap",
   "language": "python",
   "name": "umap"
  },
  "language_info": {
   "codemirror_mode": {
    "name": "ipython",
    "version": 3
   },
   "file_extension": ".py",
   "mimetype": "text/x-python",
   "name": "python",
   "nbconvert_exporter": "python",
   "pygments_lexer": "ipython3",
   "version": "3.7.7"
  }
 },
 "nbformat": 4,
 "nbformat_minor": 2
}
