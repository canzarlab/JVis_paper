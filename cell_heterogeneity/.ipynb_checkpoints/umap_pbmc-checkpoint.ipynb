{
 "cells": [
  {
   "cell_type": "code",
   "execution_count": 30,
   "metadata": {},
   "outputs": [],
   "source": [
    "# Author: Van Hoan Do <vanhoan310@gmail.com>\n",
    "# License: BSD 3 clause (C) 2020\n",
    "from numpy import genfromtxt\n",
    "import numpy as np \n",
    "import matplotlib\n",
    "import pylab as plt\n",
    "import pandas as pd\n",
    "from Jvis import UMAP, JUMAP"
   ]
  },
  {
   "cell_type": "code",
   "execution_count": 3,
   "metadata": {},
   "outputs": [],
   "source": [
    "# read data\n",
    "adt_matrix = np.genfromtxt('data/pbmc_nodoubletbycluser_minPts50_adt_pca_preprocessing_by_seurat.csv', delimiter=',');\n",
    "rna_matrix = np.genfromtxt('data/pbmc_nodoubletbycluster_minPts50_rna_pca_preprocessing_by_seurat.csv', delimiter=','); \n",
    "# method = 'CiteFuse' # 'CiteFuse'\n",
    "method = 'Specter' # 'Specter'\n",
    "if method == 'Specter':\n",
    "    y = np.genfromtxt('data/pbmc_jointspecter_labels.csv', delimiter=',')\n",
    "    cell_types = [\"CD4+CD27+ T\", \"Naive CD4+ T\", \"FCGR3A+ Mono\", \"CD14+ Mono\", \n",
    "            \"CD4+CD27-DR+ T\", \"CD8+CD27+ T\", \"CD8+CD27- T\", \"CD4+CD27-DR- T\", \"B\", \"MK\", \"Effector CD8+ T\", \"NK\"] #stable specter\n",
    "else:\n",
    "    y = np.genfromtxt('data/pbmc_citefuse_labels.csv', delimiter=',')\n",
    "    cell_types = [\"B\", \"CD8+CD27- T\", \"Naive CD4+ T\", \"FCGR3A+ Mono\", \"CD14+ Mono\", \"NK\", \"CD4+CD27+ T\", \"CD4+CD27- T\", \"CD8+CD27+ T\", \"Effector CD8+ T\"] #citefuse\n",
    "labels_true = y.astype(int)"
   ]
  },
  {
   "cell_type": "code",
   "execution_count": 4,
   "metadata": {},
   "outputs": [
    {
     "name": "stdout",
     "output_type": "stream",
     "text": [
      "Metrics for UMAP:  euclidean\n"
     ]
    }
   ],
   "source": [
    "dpi = 200\n",
    "title_fz = 16\n",
    "metrics = 'euclidean'\n",
    "n_NN = 30\n",
    "min_dist = 0.1\n",
    "print(\"Metrics for UMAP: \", metrics)\n",
    "colors_map = {\"NK\":'black', \"CD4+CD27+ T\":'cyan', \"Naive CD4+ T\":'gold', \"FCGR3A+ Mono\":'magenta', \"CD14+ Mono\":'blue', \n",
    "                  \"CD4+CD27-DR+ T\":'lime', \"CD8+CD27+ T\":'silver', \"CD8+CD27- T\":'#fdbf6f', \"CD4+CD27-DR- T\":'#a6cee3',\n",
    "                  \"MK\":'#cab2d6', \"B\":'#fb9a99', \"Effector CD8+ T\":'tomato', \"CD4+CD27- T\": 'lime'}"
   ]
  },
  {
   "cell_type": "code",
   "execution_count": null,
   "metadata": {},
   "outputs": [],
   "source": [
    "for alpha in [0.0, 1.0, 0.5]:\n",
    "    if alpha==1.0:\n",
    "        Z = UMAP(n_neighbors=n_NN, min_dist=min_dist, metric=metrics, repulsion_strength=0.1).fit_transform(rna_matrix)\n",
    "    elif alpha==0.0:\n",
    "        Z = UMAP(n_neighbors=n_NN, min_dist=min_dist, metric=metrics, repulsion_strength=0.1).fit_transform(adt_matrix)\n",
    "    else:\n",
    "        Z = JUMAP(n_neighbors=n_NN, min_dist=min_dist, metric=metrics, repulsion_strength=0.5).fit_transform(X = {'adt': adt_matrix, 'rna': rna_matrix},\n",
    "                                                                                                             method = \"auto\", ld = 1.0)\n",
    "        np.savetxt(\"jumap_pbmc.csv\", Z, delimiter=\",\")\n",
    "\n",
    "    data2 = pd.DataFrame({'x': Z[:,0], 'y': Z[:,1], 'label': labels_true-np.min(labels_true) + 1})\n",
    "    \n",
    "    figwidth = 7 if alpha==0.5 else 5\n",
    "    plt.figure(figsize=(figwidth, 5), dpi = dpi)\n",
    "    for label in range(1, len(np.unique(labels_true))+1, 1):\n",
    "        #add data points \n",
    "        i = label-1\n",
    "        plt.scatter(x=data2.loc[data2['label']==label, 'x'], \n",
    "                    y=data2.loc[data2['label']==label,'y'], \n",
    "                    color=colors_map[cell_types[i]],  \n",
    "                    alpha=1, s = 1, label = cell_types[i])\n",
    "        plt.tight_layout()\n",
    "        if alpha == 1.0:\n",
    "            plt.title(\"mRNA based UMAP\", fontdict = {'fontsize' : title_fz})\n",
    "        elif alpha == 0.0:\n",
    "            plt.title(\"ADT based UMAP\", fontdict = {'fontsize' : title_fz})\n",
    "        else:\n",
    "            plt.title(\"j-UMAP\", fontdict = {'fontsize' : title_fz})\n",
    "            plt.legend(loc='center left', numpoints=1, ncol=1, fontsize=title_fz-3, markerscale=title_fz-3, frameon=False, bbox_to_anchor=(1, 0.5))\n",
    "\n",
    "        plt.axis('off')\n",
    "    if alpha == 1.0:\n",
    "        plt.savefig('/data/hoan/plots/celltype/pbmc_'+method+'_on_RNAbasedUMAP.pdf', dpi = dpi)\n",
    "    elif alpha == 0.0:\n",
    "        plt.savefig('/data/hoan/plots/celltype/pbmc_'+method+'_on_ADTbasedUMAP.pdf', dpi = dpi)\n",
    "    else:\n",
    "        plt.savefig('/data/hoan/plots/celltype/pbmc_'+method+'_on_jointUMAP.pdf', dpi = dpi)\n",
    "    plt.show()"
   ]
  },
  {
   "cell_type": "markdown",
   "metadata": {},
   "source": [
    "## Compute KNI and ARI metrics on 3 cell types: Naive CD4, Memory CD4 and CD8 from intesection of CiteFuse and Specter labels"
   ]
  },
  {
   "cell_type": "code",
   "execution_count": 5,
   "metadata": {},
   "outputs": [],
   "source": [
    "# Specter label\n",
    "specter_labels = np.genfromtxt('data/pbmc_jointspecter_labels.csv', delimiter=',').astype(int)\n",
    "specter_labels = specter_labels - min(specter_labels) # reindex to start from 0\n",
    "cell_types = [\"CD4+CD27+ T\", \"Naive CD4+ T\", \"FCGR3A+ Mono\", \"CD14+ Mono\", \n",
    "            \"CD4+CD27-DR+ T\", \"CD8+CD27+ T\", \"CD8+CD27- T\", \"CD4+CD27-DR- T\", \"B\", \"MK\", \"Effector CD8+ T\", \"NK\"] #stable specter\n",
    "# Cell-type indices\n",
    "# Naive CD4: 1\n",
    "# Memory CD4: 0, 4, 7\n",
    "# CD8: 5, 6 (10)"
   ]
  },
  {
   "cell_type": "code",
   "execution_count": 6,
   "metadata": {},
   "outputs": [],
   "source": [
    "# Citefuse\n",
    "citefuse_labels = np.genfromtxt('data/pbmc_citefuse_labels.csv', delimiter=',').astype(int)\n",
    "citefuse_labels = citefuse_labels - min(citefuse_labels) # reindex to start from 0\n",
    "cell_types2 = [\"B\", \"CD8+CD27- T\", \"Naive CD4+ T\", \"FCGR3A+ Mono\", \"CD14+ Mono\", \"NK\", \"CD4+CD27+ T\", \"CD4+CD27- T\", \"CD8+CD27+ T\", \"Effector CD8+ T\"] #citefuse\n",
    "# Cell-type indices\n",
    "# Naive CD4: 2\n",
    "# Memory CD4: 6, 7\n",
    "# CD8: 1, 8, (9)"
   ]
  },
  {
   "cell_type": "code",
   "execution_count": 7,
   "metadata": {},
   "outputs": [],
   "source": [
    "naive_cd4 = (specter_labels==1) * (citefuse_labels==2)"
   ]
  },
  {
   "cell_type": "code",
   "execution_count": 8,
   "metadata": {},
   "outputs": [],
   "source": [
    "memory_cd4 = ((specter_labels==0) + (specter_labels==4) + (specter_labels==7)) * ((citefuse_labels==6) + (citefuse_labels==7))"
   ]
  },
  {
   "cell_type": "code",
   "execution_count": 9,
   "metadata": {},
   "outputs": [],
   "source": [
    "cd8 = ((specter_labels==5) + (specter_labels==6)+ (specter_labels==10)) * ((citefuse_labels==1) + (citefuse_labels==8) + (citefuse_labels==9))"
   ]
  },
  {
   "cell_type": "code",
   "execution_count": 10,
   "metadata": {},
   "outputs": [],
   "source": [
    "subtypes_cells = naive_cd4 + memory_cd4 + cd8"
   ]
  },
  {
   "cell_type": "code",
   "execution_count": 11,
   "metadata": {},
   "outputs": [
    {
     "data": {
      "text/plain": [
       "2769"
      ]
     },
     "execution_count": 11,
     "metadata": {},
     "output_type": "execute_result"
    }
   ],
   "source": [
    "sum(subtypes_cells)"
   ]
  },
  {
   "cell_type": "code",
   "execution_count": 12,
   "metadata": {},
   "outputs": [],
   "source": [
    "subtypes_labels_level = naive_cd4.astype(int) + 2* memory_cd4.astype(int) + 3*cd8.astype(int)"
   ]
  },
  {
   "cell_type": "code",
   "execution_count": 13,
   "metadata": {},
   "outputs": [],
   "source": [
    "subtypes_labels = subtypes_labels_level[subtypes_labels_level>0]"
   ]
  },
  {
   "cell_type": "code",
   "execution_count": 14,
   "metadata": {},
   "outputs": [
    {
     "data": {
      "text/plain": [
       "(2769, array([1, 3, 3, ..., 3, 3, 3]))"
      ]
     },
     "execution_count": 14,
     "metadata": {},
     "output_type": "execute_result"
    }
   ],
   "source": [
    "len(subtypes_labels), subtypes_labels"
   ]
  },
  {
   "cell_type": "code",
   "execution_count": 27,
   "metadata": {},
   "outputs": [
    {
     "name": "stdout",
     "output_type": "stream",
     "text": [
      "My name is Hoan\n",
      "Always use exact mode\n"
     ]
    }
   ],
   "source": [
    "# RNA based tSNE\n",
    "sub_tsne_rna = UMAP(init='random').fit_transform(rna_matrix[subtypes_cells==1])"
   ]
  },
  {
   "cell_type": "code",
   "execution_count": 28,
   "metadata": {},
   "outputs": [
    {
     "data": {
      "image/png": "[encoded data removed]",
      "text/plain": [
       "<Figure size 432x288 with 1 Axes>"
      ]
     },
     "metadata": {
      "needs_background": "light"
     },
     "output_type": "display_data"
    }
   ],
   "source": [
    "plt.scatter(sub_tsne_rna[:,0], sub_tsne_rna[:, 1])\n",
    "plt.show()"
   ]
  },
  {
   "cell_type": "code",
   "execution_count": 29,
   "metadata": {},
   "outputs": [
    {
     "name": "stdout",
     "output_type": "stream",
     "text": [
      "KNI:  0.960527266161069 , CARI:  0.058469552558692926\n"
     ]
    }
   ],
   "source": [
    "## Compute two metrics\n",
    "from joint_metrics import *\n",
    "kNN = 10\n",
    "KNI_metrics = KNI(sub_tsne_rna, subtypes_labels, kNN)\n",
    "CARI_metrics = CARI(sub_tsne_rna, subtypes_labels)\n",
    "print(\"KNI: \", KNI_metrics, \", CARI: \", CARI_metrics)"
   ]
  },
  {
   "cell_type": "code",
   "execution_count": 23,
   "metadata": {},
   "outputs": [
    {
     "name": "stdout",
     "output_type": "stream",
     "text": [
      "My name is Hoan\n",
      "Always use exact mode\n"
     ]
    }
   ],
   "source": [
    "# ADT based tSNE\n",
    "sub_tsne_adt = UMAP(init='random').fit_transform(adt_matrix[subtypes_cells==1])"
   ]
  },
  {
   "cell_type": "code",
   "execution_count": 24,
   "metadata": {},
   "outputs": [
    {
     "name": "stdout",
     "output_type": "stream",
     "text": [
      "KNI:  0.9468400144456482 , CARI:  0.7105548991428042\n"
     ]
    }
   ],
   "source": [
    "KNI_metrics = KNI(sub_tsne_adt, subtypes_labels, kNN)\n",
    "CARI_metrics = CARI(sub_tsne_adt, subtypes_labels)\n",
    "print(\"KNI: \", KNI_metrics, \", CARI: \", CARI_metrics)"
   ]
  },
  {
   "cell_type": "code",
   "execution_count": 25,
   "metadata": {},
   "outputs": [
    {
     "name": "stdout",
     "output_type": "stream",
     "text": [
      "Always use exact mode: JUMAP\n"
     ]
    }
   ],
   "source": [
    "# sub_joint_tsne = joint_tsne[subtypes_cells==1]\n",
    "sub_joint_tsne = JUMAP(init='random').fit_transform(X = {'adt': adt_matrix[subtypes_cells==1], 'rna': rna_matrix[subtypes_cells==1]})"
   ]
  },
  {
   "cell_type": "code",
   "execution_count": 26,
   "metadata": {},
   "outputs": [
    {
     "name": "stdout",
     "output_type": "stream",
     "text": [
      "KNI:  0.9853015529071867 , CARI:  0.674594878834674\n"
     ]
    }
   ],
   "source": [
    "## Compute two metrics\n",
    "KNI_metrics = KNI(sub_joint_tsne, subtypes_labels, kNN)\n",
    "CARI_metrics = CARI(sub_joint_tsne, subtypes_labels)\n",
    "print(\"KNI: \", KNI_metrics, \", CARI: \", CARI_metrics)"
   ]
  },
  {
   "cell_type": "code",
   "execution_count": null,
   "metadata": {},
   "outputs": [],
   "source": []
  }
 ],
 "metadata": {
  "kernelspec": {
   "display_name": "Python umap",
   "language": "python",
   "name": "umap"
  },
  "language_info": {
   "codemirror_mode": {
    "name": "ipython",
    "version": 3
   },
   "file_extension": ".py",
   "mimetype": "text/x-python",
   "name": "python",
   "nbconvert_exporter": "python",
   "pygments_lexer": "ipython3",
   "version": "3.7.7"
  }
 },
 "nbformat": 4,
 "nbformat_minor": 2
}
